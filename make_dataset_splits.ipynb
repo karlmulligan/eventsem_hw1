{
 "cells": [
  {
   "cell_type": "markdown",
   "metadata": {},
   "source": [
    "# EN.601.769 Assignment 1: Semantic Role Labeling\n",
    "\n",
    "#### Karl Mulligan \n",
    "\n",
    "February 28th 2021 "
   ]
  },
  {
   "cell_type": "markdown",
   "metadata": {},
   "source": [
    "## Part 1: Data Collection"
   ]
  },
  {
   "cell_type": "code",
   "execution_count": 1,
   "metadata": {},
   "outputs": [],
   "source": [
    "import os\n",
    "from collections import defaultdict\n",
    "import json"
   ]
  },
  {
   "cell_type": "code",
   "execution_count": 2,
   "metadata": {},
   "outputs": [],
   "source": [
    "from decomp import UDSCorpus\n",
    "\n",
    "splits = {\"train\" : UDSCorpus(split=\"train\"),\n",
    "          \"dev\" : UDSCorpus(split=\"dev\"),\n",
    "          \"test\" : UDSCorpus(split=\"test\")}"
   ]
  },
  {
   "cell_type": "code",
   "execution_count": 13,
   "metadata": {},
   "outputs": [],
   "source": [
    "# SEMANTIC ROLES\n",
    "ROLES = {\"agent\": lambda p: ((p[\"volition\"][\"value\"] > 0) or (p[\"instigation\"][\"value\"] > 0)) and (p[\"existed_before\"][\"value\"] > 0),\n",
    "         \"patient\": lambda p: (p[\"change_of_state\"][\"value\"] > 0) and (p[\"existed_after\"][\"value\"] > 0),\n",
    "         \"theme\": lambda p: ((p[\"change_of_possession\"][\"value\"] > 0) or (p[\"change_of_location\"][\"value\"])) and (p[\"instigation\"][\"value\"] < 0),\n",
    "         \"recipient\": lambda p: ((p[\"awareness\"][\"value\"] > 0) and p[\"sentient\"][\"value\"] > 0) and (p[\"existed_before\"][\"value\"] > 0) and (p[\"volition\"][\"value\"] < 0),\n",
    "         \"experiencer\": lambda p: ((p[\"awareness\"][\"value\"] > 0) and (p[\"change_of_state\"][\"value\"] > 0) and (p[\"sentient\"][\"value\"] > 0))                                   \n",
    "        }"
   ]
  },
  {
   "cell_type": "code",
   "execution_count": 14,
   "metadata": {},
   "outputs": [],
   "source": [
    "def parse_edge_name(edge):\n",
    "    \n",
    "    def parse_node_name(node):\n",
    "        typ, idx = node.split('-')[-2:] #['arg', 'x'] or ['pred', 'x']\n",
    "        return typ, idx\n",
    "    \n",
    "    predicate_head_idx = None\n",
    "    argument_head_idx = None\n",
    "    \n",
    "    typ, idx = parse_node_name(edge[0])\n",
    "    if typ == \"pred\":\n",
    "        predicate_head_idx = idx\n",
    "    elif typ == \"arg\":\n",
    "        argument_head_idx = idx\n",
    "    else:\n",
    "        raise ValueError(f\"{edge[0]}, {typ}, {idx}\")\n",
    "\n",
    "    typ, idx = parse_node_name(edge[1])\n",
    "    if typ == \"pred\":\n",
    "        predicate_head_idx = idx\n",
    "    elif typ == \"arg\":\n",
    "        argument_head_idx = idx\n",
    "    else:\n",
    "        raise ValueError(f\"{edge[0]}, {typ}, {idx}\")\n",
    "        \n",
    "    assert (predicate_head_idx != None) and (argument_head_idx != None)\n",
    "    \n",
    "    return predicate_head_idx, argument_head_idx"
   ]
  },
  {
   "cell_type": "code",
   "execution_count": 15,
   "metadata": {},
   "outputs": [],
   "source": [
    "def process_split(split, role, criteria):\n",
    "    pos_counter = 0\n",
    "    neg_counter = 0\n",
    "    dataset = {}\n",
    "    for graphid, graph in split.items():\n",
    "        tokens = tuple(graph.sentence.split())\n",
    "        \n",
    "        semantics_edges = graph.semantics_edges()\n",
    "        for edge, properties in semantics_edges.items():\n",
    "            if \"protoroles\" in properties:\n",
    "                try:\n",
    "                    predicate_head_idx, argument_head_idx = parse_edge_name(edge)\n",
    "                except:\n",
    "                    import pdb; pdb.set_trace()\n",
    "\n",
    "                try:\n",
    "                    role_applies = criteria(properties[\"protoroles\"])\n",
    "                    if role_applies:\n",
    "                        label = \"positive\"\n",
    "                        pos_counter += 1\n",
    "                    else:\n",
    "                        label = \"negative\"\n",
    "                        neg_counter += 1\n",
    "\n",
    "                    item_id = \"|\".join([graphid, predicate_head_idx, argument_head_idx])\n",
    "                    dataset[item_id] = {\"graphid\": graphid,\n",
    "                                        \"tokens\": tokens,\n",
    "                                        \"predicate_head_idx\": predicate_head_idx,\n",
    "                                        \"argument_head_idx\": argument_head_idx,\n",
    "                                        \"label\": label\n",
    "                                       }\n",
    "                except: \n",
    "                    continue\n",
    "    print(f\"{pos_counter} positive examples of {role}.\")\n",
    "    print(f\"{neg_counter} negative examples of {role}.\")\n",
    "    return dataset"
   ]
  },
  {
   "cell_type": "code",
   "execution_count": 16,
   "metadata": {},
   "outputs": [],
   "source": [
    "DATA_PATH = \"/Users/karlmulligan/Documents/jhu/event_sem/decomp/data\""
   ]
  },
  {
   "cell_type": "code",
   "execution_count": 17,
   "metadata": {},
   "outputs": [
    {
     "name": "stdout",
     "output_type": "stream",
     "text": [
      "2827 positive examples of agent.\n",
      "2047 negative examples of agent.\n",
      "380 positive examples of agent.\n",
      "252 negative examples of agent.\n",
      "373 positive examples of agent.\n",
      "209 negative examples of agent.\n",
      "1004 positive examples of patient.\n",
      "3870 negative examples of patient.\n",
      "143 positive examples of patient.\n",
      "489 negative examples of patient.\n",
      "119 positive examples of patient.\n",
      "463 negative examples of patient.\n",
      "1572 positive examples of theme.\n",
      "3302 negative examples of theme.\n",
      "212 positive examples of theme.\n",
      "420 negative examples of theme.\n",
      "159 positive examples of theme.\n",
      "423 negative examples of theme.\n",
      "349 positive examples of recipient.\n",
      "4525 negative examples of recipient.\n",
      "29 positive examples of recipient.\n",
      "603 negative examples of recipient.\n",
      "29 positive examples of recipient.\n",
      "553 negative examples of recipient.\n",
      "493 positive examples of experiencer.\n",
      "4381 negative examples of experiencer.\n",
      "76 positive examples of experiencer.\n",
      "556 negative examples of experiencer.\n",
      "55 positive examples of experiencer.\n",
      "527 negative examples of experiencer.\n"
     ]
    }
   ],
   "source": [
    "datasets = defaultdict(dict)\n",
    "for role, criteria in ROLES.items():\n",
    "    for split in ['train', 'dev', 'test']:\n",
    "        datasets[role][split] = process_split(splits[split], role, criteria)\n",
    "\n",
    "for role in datasets.keys():\n",
    "    role_path = os.path.join(DATA_PATH, role)\n",
    "    if not os.path.exists(role_path):\n",
    "        os.mkdir(role_path)\n",
    "    \n",
    "    for split in datasets[role].keys():\n",
    "        with open(os.path.join(role_path, f\"{split}.json\"), \"w\") as f:\n",
    "            json.dump(datasets[role][split], f, indent=2)"
   ]
  },
  {
   "cell_type": "code",
   "execution_count": null,
   "metadata": {},
   "outputs": [],
   "source": [
    "len(splits[\"train\"].items())"
   ]
  },
  {
   "cell_type": "code",
   "execution_count": null,
   "metadata": {},
   "outputs": [],
   "source": [
    "for edge, properties in splits['test']['ewt-test-2077'].semantics_edges().items():\n",
    "    print(properties)"
   ]
  },
  {
   "cell_type": "code",
   "execution_count": null,
   "metadata": {},
   "outputs": [],
   "source": []
  }
 ],
 "metadata": {
  "kernelspec": {
   "display_name": "Python 3",
   "language": "python",
   "name": "python3"
  },
  "language_info": {
   "codemirror_mode": {
    "name": "ipython",
    "version": 3
   },
   "file_extension": ".py",
   "mimetype": "text/x-python",
   "name": "python",
   "nbconvert_exporter": "python",
   "pygments_lexer": "ipython3",
   "version": "3.7.4"
  }
 },
 "nbformat": 4,
 "nbformat_minor": 2
}
